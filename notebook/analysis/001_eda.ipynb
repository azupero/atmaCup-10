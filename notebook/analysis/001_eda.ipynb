{
 "cells": [
  {
   "cell_type": "markdown",
   "metadata": {},
   "source": [
    "# EDA notebook"
   ]
  },
  {
   "cell_type": "code",
   "execution_count": null,
   "metadata": {},
   "outputs": [],
   "source": [
    "import numpy as np\n",
    "import pandas as pd\n",
    "from matplotlib import pyplot as plt\n",
    "import seaborn as sns\n",
    "from plotly import express as px\n",
    "from matplotlib_venn import venn2\n",
    "import sweetviz as sv\n",
    "from ptitprince import RainCloud\n",
    "\n",
    "from pathlib import Path"
   ]
  },
  {
   "cell_type": "code",
   "execution_count": null,
   "metadata": {},
   "outputs": [],
   "source": [
    "INPUT_DIR = '../../input'\n",
    "OUTPUT_DIR = '../../output'\n",
    "\n",
    "train_df = pd.read_csv(Path(INPUT_DIR) / 'train.csv')\n",
    "test_df = pd.read_csv(Path(INPUT_DIR) / 'test.csv')\n",
    "color_df = pd.read_csv(Path(INPUT_DIR) / 'color.csv')\n",
    "historical_df = pd.read_csv(Path(INPUT_DIR) / 'historical_person.csv')\n",
    "maker_df = pd.read_csv(Path(INPUT_DIR) / 'maker.csv')\n",
    "material_df = pd.read_csv(Path(INPUT_DIR) / 'material.csv')\n",
    "object_df = pd.read_csv(Path(INPUT_DIR) / 'object_collection.csv')\n",
    "palette_df = pd.read_csv(Path(INPUT_DIR) / 'palette.csv')\n",
    "principal_occupation_df = pd.read_csv(Path(INPUT_DIR) / 'principal_maker_occupation.csv')\n",
    "principal_maker_df =  pd.read_csv(Path(INPUT_DIR) / 'principal_maker.csv')\n",
    "production_df = pd.read_csv(Path(INPUT_DIR) / 'production_place.csv')\n",
    "technique_df = pd.read_csv(Path(INPUT_DIR) / 'technique.csv')\n",
    "submission = pd.read_csv(Path(INPUT_DIR) / 'sample_submission.csv')"
   ]
  },
  {
   "cell_type": "code",
   "execution_count": null,
   "metadata": {},
   "outputs": [],
   "source": [
    "train_df.head().T"
   ]
  },
  {
   "cell_type": "code",
   "execution_count": null,
   "metadata": {},
   "outputs": [],
   "source": [
    "# train/test venn2\n",
    "cat_cols = [\n",
    "    'object_id', 'art_series_id', 'title', 'long_title',\n",
    "    'principal_maker', 'principal_or_first_maker', 'sub_title',\n",
    "    'copyright_holder', 'more_title', 'acquisition_method',\n",
    "    'acquisition_date', 'acquisition_credit_line']\n",
    "\n",
    "fig, axes = plt.subplots(4, 3, figsize=(20, 15))\n",
    "axes = np.ravel(axes)\n",
    "for ax, col in zip(axes, cat_cols):\n",
    "    venn2(subsets=(set(train_df[col].unique()), set(test_df[col].unique())), set_labels=('train', 'test'), ax=ax, set_colors=('C0', 'C1'))\n",
    "    ax.set_title(col)\n",
    "fig.patch.set_facecolor('white')\n",
    "fig.tight_layout()"
   ]
  },
  {
   "cell_type": "code",
   "execution_count": null,
   "metadata": {},
   "outputs": [],
   "source": [
    "# 各テーブルのtrain/test venn\n",
    "def filter_names(master_df: pd.DataFrame, input_df: pd.DataFrame) -> set:\n",
    "    idx = master_df['object_id'].isin(input_df['object_id'])\n",
    "\n",
    "    return set(master_df[idx]['name'].unique())"
   ]
  },
  {
   "cell_type": "code",
   "execution_count": null,
   "metadata": {},
   "outputs": [],
   "source": []
  }
 ],
 "metadata": {
  "kernelspec": {
   "display_name": "Python 3.8.6  ('.venv': venv)",
   "metadata": {
    "interpreter": {
     "hash": "4f969c46b9e489a3ba44234dd60c0d7afd42f210e566a36195393afc0eaa93a9"
    }
   },
   "name": "python3"
  },
  "language_info": {
   "codemirror_mode": {
    "name": "ipython",
    "version": 3
   },
   "file_extension": ".py",
   "mimetype": "text/x-python",
   "name": "python",
   "nbconvert_exporter": "python",
   "pygments_lexer": "ipython3",
   "version": "3.8.6"
  },
  "orig_nbformat": 2
 },
 "nbformat": 4,
 "nbformat_minor": 2
}