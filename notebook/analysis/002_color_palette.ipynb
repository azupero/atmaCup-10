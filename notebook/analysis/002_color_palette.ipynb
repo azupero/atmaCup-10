{
 "cells": [
  {
   "cell_type": "code",
   "execution_count": null,
   "metadata": {},
   "outputs": [],
   "source": [
    "import numpy as np\n",
    "import pandas as pd"
   ]
  }
 ],
 "metadata": {
  "kernelspec": {
   "display_name": "Python 3.8.8  ('.venv': venv)",
   "name": "pythonjvsc74a57bd04f969c46b9e489a3ba44234dd60c0d7afd42f210e566a36195393afc0eaa93a9"
  },
  "language_info": {
   "name": "python",
   "version": ""
  },
  "metadata": {
   "interpreter": {
    "hash": "4f969c46b9e489a3ba44234dd60c0d7afd42f210e566a36195393afc0eaa93a9"
   }
  },
  "orig_nbformat": 2
 },
 "nbformat": 4,
 "nbformat_minor": 2
}